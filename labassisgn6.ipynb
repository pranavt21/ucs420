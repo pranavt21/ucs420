{
 "cells": [
  {
   "cell_type": "code",
   "execution_count": null,
   "id": "f15aaaab",
   "metadata": {},
   "outputs": [],
   "source": [
    "import numpy as np\n",
    "import matplotlib.pyplot as plt"
   ]
  },
  {
   "cell_type": "code",
   "execution_count": null,
   "id": "874973a3",
   "metadata": {},
   "outputs": [],
   "source": [
    "M = float(input())\n",
    "x = np.linspace(-10, 10, 400)\n",
    "y1 = M * x**2\n",
    "y2 = M * np.sin(x)"
   ]
  },
  {
   "cell_type": "code",
   "execution_count": null,
   "id": "a37fd486",
   "metadata": {},
   "outputs": [],
   "source": [
    "plt.figure(figsize=(10, 6))\n",
    "plt.plot(x, y1)\n",
    "plt.plot(x, y2)\n",
    "plt.grid(True)\n",
    "plt.legend(['M*x^2', 'M*sin(x)'])\n",
    "plt.show()"
   ]
  },
  {
   "cell_type": "code",
   "execution_count": null,
   "id": "5fddb953",
   "metadata": {},
   "outputs": [],
   "source": [
    "import pandas as pd\n",
    "import seaborn as sns"
   ]
  },
  {
   "cell_type": "code",
   "execution_count": null,
   "id": "ad4d9ecb",
   "metadata": {},
   "outputs": [],
   "source": [
    "subjects = ['Math', 'Science', 'English', 'History', 'Art']\n",
    "scores = [88, 75, 90, 70, 85]\n",
    "df = pd.DataFrame({'Subject': subjects, 'Score': scores})"
   ]
  },
  {
   "cell_type": "code",
   "execution_count": null,
   "id": "fe9e7a84",
   "metadata": {},
   "outputs": [],
   "source": [
    "plt.figure(figsize=(8, 6))\n",
    "ax = sns.barplot(x='Subject', y='Score', data=df)\n",
    "for i, v in enumerate(scores):\n",
    "    plt.text(i, v, str(v), ha='center')\n",
    "plt.grid(True)\n",
    "plt.show()"
   ]
  },
  {
   "cell_type": "code",
   "execution_count": null,
   "id": "47bd0097",
   "metadata": {},
   "outputs": [],
   "source": [
    "import numpy as np\n",
    "np.random.seed(102103043)\n",
    "data = np.random.randn(50)"
   ]
  },
  {
   "cell_type": "code",
   "execution_count": null,
   "id": "9bb9aa52",
   "metadata": {},
   "outputs": [],
   "source": [
    "fig, axes = plt.subplots(2, 2, figsize=(12, 8))\n",
    "axes[0, 0].plot(np.cumsum(data))\n",
    "axes[0, 0].grid(True)\n",
    "axes[0, 1].scatter(range(50), data)\n",
    "axes[0, 1].grid(True)\n",
    "fig.delaxes(axes[1, 0])\n",
    "fig.delaxes(axes[1, 1])\n",
    "plt.tight_layout()\n",
    "plt.show()"
   ]
  }
 ],
 "metadata": {},
 "nbformat": 4,
 "nbformat_minor": 5
}