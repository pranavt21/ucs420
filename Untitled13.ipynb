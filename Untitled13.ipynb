{
 "cells": [
  {
   "cell_type": "code",
   "execution_count": 5,
   "id": "f2f53652-0fe4-4b55-a015-584b760bc0e1",
   "metadata": {},
   "outputs": [
    {
     "name": "stdout",
     "output_type": "stream",
     "text": [
      "45\n",
      "[[14]\n",
      " [16]\n",
      " [15]]\n",
      "[[20  9 16]]\n"
     ]
    }
   ],
   "source": [
    "import numpy as np\n",
    "gfg=np.matrix('[4,1,9;12,3,1;4,5,6]')\n",
    "SUM=np.sum(gfg)\n",
    "print(SUM)\n",
    "rowsum=np.sum(gfg,1)\n",
    "print(rowsum)\n",
    "colsum=np.sum(gfg,0)\n",
    "print(colsum)\n"
   ]
  },
  {
   "cell_type": "code",
   "execution_count": null,
   "id": "255e7503-3c5d-4ab7-88b1-b6ef02ca04c0",
   "metadata": {},
   "outputs": [],
   "source": [
    "array=np.array([10,52,62,16,16,54,453])\n",
    "sorted=np."
   ]
  }
 ],
 "metadata": {
  "kernelspec": {
   "display_name": "Python 3 (ipykernel)",
   "language": "python",
   "name": "python3"
  },
  "language_info": {
   "codemirror_mode": {
    "name": "ipython",
    "version": 3
   },
   "file_extension": ".py",
   "mimetype": "text/x-python",
   "name": "python",
   "nbconvert_exporter": "python",
   "pygments_lexer": "ipython3",
   "version": "3.11.7"
  }
 },
 "nbformat": 4,
 "nbformat_minor": 5
}
