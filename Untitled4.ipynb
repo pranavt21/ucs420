{
 "cells": [
  {
   "cell_type": "code",
   "execution_count": 1,
   "id": "70fa33ab-341a-407c-b73b-974b9766c8d7",
   "metadata": {},
   "outputs": [
    {
     "name": "stdout",
     "output_type": "stream",
     "text": [
      "[10, 20, 30, 40, 50, 60, 70, 80]\n"
     ]
    }
   ],
   "source": [
    "L=[10,20,30,40,50,60,70,80]\n",
    "print(L)"
   ]
  },
  {
   "cell_type": "code",
   "execution_count": 3,
   "id": "76d009cb-be8f-4641-a4a5-29c4c99b5ab2",
   "metadata": {},
   "outputs": [],
   "source": [
    "L.append(200)"
   ]
  },
  {
   "cell_type": "code",
   "execution_count": 4,
   "id": "cc8cbbe1-84c8-4f14-a7e3-01e7fa7e53e2",
   "metadata": {},
   "outputs": [],
   "source": [
    "L.append(300)"
   ]
  },
  {
   "cell_type": "code",
   "execution_count": 5,
   "id": "58921ffa-7a0b-4729-957e-58f47c7c64cf",
   "metadata": {},
   "outputs": [
    {
     "name": "stdout",
     "output_type": "stream",
     "text": [
      "[10, 20, 30, 40, 50, 60, 70, 80, 200, 300]\n"
     ]
    }
   ],
   "source": [
    "print(L)\n"
   ]
  },
  {
   "cell_type": "code",
   "execution_count": 6,
   "id": "b5c75a7b-e654-4b5a-8dfc-95c751f38ebd",
   "metadata": {},
   "outputs": [],
   "source": [
    "L.remove(10)"
   ]
  },
  {
   "cell_type": "code",
   "execution_count": 7,
   "id": "f6f05376-bc1f-48f5-91c1-fc8a090f59a7",
   "metadata": {},
   "outputs": [
    {
     "name": "stdout",
     "output_type": "stream",
     "text": [
      "[30, 40, 50, 60, 70, 80, 200, 300]\n"
     ]
    }
   ],
   "source": [
    "L.remove(20)\n",
    "print(L)"
   ]
  },
  {
   "cell_type": "code",
   "execution_count": 15,
   "id": "c2f65453-4e8a-42f3-8c3f-04a0eea89a56",
   "metadata": {},
   "outputs": [
    {
     "name": "stdout",
     "output_type": "stream",
     "text": [
      "[30, 40, 50, 60, 70, 80, 200, 300]\n"
     ]
    }
   ],
   "source": [
    "L.sort()\n",
    "print(L)"
   ]
  },
  {
   "cell_type": "code",
   "execution_count": 14,
   "id": "c7c091af-d4d4-4c7c-9bd1-137616f7cff4",
   "metadata": {},
   "outputs": [
    {
     "name": "stdout",
     "output_type": "stream",
     "text": [
      "[300, 200, 80, 70, 60, 50, 40, 30]\n"
     ]
    }
   ],
   "source": [
    "L.reverse()\n",
    "print(L)"
   ]
  },
  {
   "cell_type": "code",
   "execution_count": 17,
   "id": "ed4f9ae5-4734-442b-bdde-899d6e8bdaae",
   "metadata": {},
   "outputs": [
    {
     "name": "stdout",
     "output_type": "stream",
     "text": [
      "(45, 89.5, 76, 45.4, 89, 92, 58, 45)\n"
     ]
    }
   ],
   "source": [
    "marks=(45,89.5,76,45.4,89,92,58,45)\n",
    "print(marks)"
   ]
  },
  {
   "cell_type": "code",
   "execution_count": null,
   "id": "3734e0b0-84b7-496a-851b-88aa2b32939a",
   "metadata": {},
   "outputs": [],
   "source": []
  }
 ],
 "metadata": {
  "kernelspec": {
   "display_name": "Python 3 (ipykernel)",
   "language": "python",
   "name": "python3"
  },
  "language_info": {
   "codemirror_mode": {
    "name": "ipython",
    "version": 3
   },
   "file_extension": ".py",
   "mimetype": "text/x-python",
   "name": "python",
   "nbconvert_exporter": "python",
   "pygments_lexer": "ipython3",
   "version": "3.11.7"
  }
 },
 "nbformat": 4,
 "nbformat_minor": 5
}
