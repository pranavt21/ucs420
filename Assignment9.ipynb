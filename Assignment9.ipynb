{
  "cells": [
    {
      "cell_type": "markdown",
      "metadata": {
        "id": "JEE8tB30qlIV"
      },
      "source": [
        "Q1. Write a unique paragraph (5-6 sentences) about your favorite topic (e.g., sports,\n",
        "technology, food, books, etc.).\n",
        "1. Convert text to lowercase and remove punctuaƟon.\n",
        "2. Tokenize the text into words and sentences.\n",
        "3. Remove stopwords (using NLTK's stopwords list).\n",
        "4. Display word frequency distribuƟon (excluding stopwords).\n"
      ]
    },
    {
      "cell_type": "code",
      "execution_count": 1,
      "metadata": {},
      "outputs": [
        {
          "name": "stdout",
          "output_type": "stream",
          "text": [
            "Requirement already satisfied: nltk==3.8.1 in c:\\users\\jahid\\appdata\\local\\programs\\python\\python313\\lib\\site-packages (3.8.1)\n",
            "Requirement already satisfied: click in c:\\users\\jahid\\appdata\\roaming\\python\\python313\\site-packages (from nltk==3.8.1) (8.1.8)\n",
            "Requirement already satisfied: joblib in c:\\users\\jahid\\appdata\\local\\programs\\python\\python313\\lib\\site-packages (from nltk==3.8.1) (1.4.2)\n",
            "Requirement already satisfied: regex>=2021.8.3 in c:\\users\\jahid\\appdata\\roaming\\python\\python313\\site-packages (from nltk==3.8.1) (2024.11.6)\n",
            "Requirement already satisfied: tqdm in c:\\users\\jahid\\appdata\\roaming\\python\\python313\\site-packages (from nltk==3.8.1) (4.67.1)\n",
            "Requirement already satisfied: colorama in c:\\users\\jahid\\appdata\\roaming\\python\\python313\\site-packages (from click->nltk==3.8.1) (0.4.6)\n"
          ]
        },
        {
          "name": "stderr",
          "output_type": "stream",
          "text": [
            "\n",
            "[notice] A new release of pip is available: 25.0.1 -> 25.1\n",
            "[notice] To update, run: python.exe -m pip install --upgrade pip\n"
          ]
        },
        {
          "name": "stdout",
          "output_type": "stream",
          "text": [
            "3.8.1\n"
          ]
        },
        {
          "name": "stderr",
          "output_type": "stream",
          "text": [
            "[nltk_data] Downloading package punkt to\n",
            "[nltk_data]     C:\\Users\\Jahid\\AppData\\Roaming\\nltk_data...\n",
            "[nltk_data]   Package punkt is already up-to-date!\n"
          ]
        }
      ],
      "source": [
        "!pip install nltk==3.8.1\n",
        "import nltk\n",
        "nltk.download('punkt')\n",
        "print(nltk.__version__)"
      ]
    },
    {
      "cell_type": "code",
      "execution_count": 2,
      "metadata": {
        "colab": {
          "base_uri": "https://localhost:8080/"
        },
        "id": "RbeTv9RUqemc",
        "outputId": "0fd24ba1-6126-4ec4-9ddd-6af046368476"
      },
      "outputs": [
        {
          "name": "stdout",
          "output_type": "stream",
          "text": [
            "technology is fascinating because it constantly evolves and changes the way we live from smartphones to artificial intelligence every invention makes life more efficient and connected i love exploring the latest gadgets and learning how they work reading about new discoveries in robotics and space travel excites me it feels like technology opens doors to endless possibilities and future adventures\n"
          ]
        }
      ],
      "source": [
        "import string\n",
        "\n",
        "text = \"\"\"Technology is fascinating because it constantly evolves and changes the way we live. From smartphones to artificial intelligence, every invention makes life more efficient and connected. I love exploring the latest gadgets and learning how they work. Reading about new discoveries in robotics and space travel excites me. It feels like technology opens doors to endless possibilities and future adventures.\"\"\"\n",
        "\n",
        "text_lower = text.lower()\n",
        "\n",
        "text_no_punct = text_lower.translate(str.maketrans('', '', string.punctuation))\n",
        "\n",
        "print(text_no_punct)\n"
      ]
    },
    {
      "cell_type": "code",
      "execution_count": 3,
      "metadata": {
        "colab": {
          "base_uri": "https://localhost:8080/"
        },
        "id": "jKh4O_ozrXMp",
        "outputId": "3ace0317-76d5-4b6b-dd9e-5b1457f9d2fd"
      },
      "outputs": [
        {
          "name": "stderr",
          "output_type": "stream",
          "text": [
            "[nltk_data] Downloading package punkt to\n",
            "[nltk_data]     C:\\Users\\Jahid\\AppData\\Roaming\\nltk_data...\n",
            "[nltk_data]   Package punkt is already up-to-date!\n"
          ]
        },
        {
          "data": {
            "text/plain": [
              "True"
            ]
          },
          "execution_count": 3,
          "metadata": {},
          "output_type": "execute_result"
        }
      ],
      "source": [
        "import nltk\n",
        "nltk.download('punkt')\n"
      ]
    },
    {
      "cell_type": "code",
      "execution_count": 4,
      "metadata": {
        "colab": {
          "base_uri": "https://localhost:8080/"
        },
        "id": "kdE5yDKzrwRm",
        "outputId": "4136e4b5-f727-4e44-f851-b8cb87614759"
      },
      "outputs": [
        {
          "name": "stderr",
          "output_type": "stream",
          "text": [
            "[nltk_data] Downloading package punkt_tab to\n",
            "[nltk_data]     C:\\Users\\Jahid\\AppData\\Roaming\\nltk_data...\n",
            "[nltk_data]   Package punkt_tab is already up-to-date!\n"
          ]
        },
        {
          "data": {
            "text/plain": [
              "True"
            ]
          },
          "execution_count": 4,
          "metadata": {},
          "output_type": "execute_result"
        }
      ],
      "source": [
        "nltk.download('punkt_tab')"
      ]
    },
    {
      "cell_type": "code",
      "execution_count": 5,
      "metadata": {
        "colab": {
          "base_uri": "https://localhost:8080/"
        },
        "id": "TyGQ6GISrmtj",
        "outputId": "25022b20-f08f-4316-bf89-fd1d1f5328e8"
      },
      "outputs": [
        {
          "name": "stdout",
          "output_type": "stream",
          "text": [
            "['technology', 'is', 'fascinating', 'because', 'it', 'constantly', 'evolves', 'and', 'changes', 'the', 'way', 'we', 'live', 'from', 'smartphones', 'to', 'artificial', 'intelligence', 'every', 'invention', 'makes', 'life', 'more', 'efficient', 'and', 'connected', 'i', 'love', 'exploring', 'the', 'latest', 'gadgets', 'and', 'learning', 'how', 'they', 'work', 'reading', 'about', 'new', 'discoveries', 'in', 'robotics', 'and', 'space', 'travel', 'excites', 'me', 'it', 'feels', 'like', 'technology', 'opens', 'doors', 'to', 'endless', 'possibilities', 'and', 'future', 'adventures']\n",
            "['technology is fascinating because it constantly evolves and changes the way we live from smartphones to artificial intelligence every invention makes life more efficient and connected i love exploring the latest gadgets and learning how they work reading about new discoveries in robotics and space travel excites me it feels like technology opens doors to endless possibilities and future adventures']\n"
          ]
        }
      ],
      "source": [
        "from nltk.tokenize import word_tokenize, sent_tokenize\n",
        "\n",
        "words = word_tokenize(text_no_punct)\n",
        "\n",
        "sentences = sent_tokenize(text_no_punct)\n",
        "\n",
        "print(words)\n",
        "print(sentences)"
      ]
    },
    {
      "cell_type": "code",
      "execution_count": 6,
      "metadata": {
        "colab": {
          "base_uri": "https://localhost:8080/"
        },
        "id": "K6_8oAdkr4l6",
        "outputId": "14ed13e5-792e-4ce9-900e-2ccf45cb0407"
      },
      "outputs": [
        {
          "name": "stdout",
          "output_type": "stream",
          "text": [
            "['technology', 'fascinating', 'constantly', 'evolves', 'changes', 'way', 'live', 'smartphones', 'artificial', 'intelligence', 'every', 'invention', 'makes', 'life', 'efficient', 'connected', 'love', 'exploring', 'latest', 'gadgets', 'learning', 'work', 'reading', 'new', 'discoveries', 'robotics', 'space', 'travel', 'excites', 'feels', 'like', 'technology', 'opens', 'doors', 'endless', 'possibilities', 'future', 'adventures']\n"
          ]
        },
        {
          "name": "stderr",
          "output_type": "stream",
          "text": [
            "[nltk_data] Downloading package stopwords to\n",
            "[nltk_data]     C:\\Users\\Jahid\\AppData\\Roaming\\nltk_data...\n",
            "[nltk_data]   Package stopwords is already up-to-date!\n"
          ]
        }
      ],
      "source": [
        "nltk.download('stopwords')\n",
        "from nltk.corpus import stopwords\n",
        "\n",
        "stop_words = set(stopwords.words('english'))\n",
        "filtered_words = [word for word in words if word not in stop_words]\n",
        "\n",
        "print(filtered_words)"
      ]
    },
    {
      "cell_type": "code",
      "execution_count": 7,
      "metadata": {
        "colab": {
          "base_uri": "https://localhost:8080/",
          "height": 566
        },
        "id": "W17QwNBYsXDQ",
        "outputId": "59eb8a50-30b6-4b78-bee7-ef3b0364bcea"
      },
      "outputs": [
        {
          "data": {
            "image/png": "[encoded data removed]",
            "text/plain": [
              "<Figure size 640x480 with 1 Axes>"
            ]
          },
          "metadata": {},
          "output_type": "display_data"
        },
        {
          "data": {
            "text/plain": [
              "<Axes: title={'center': 'Word Frequency Distribution'}, xlabel='Samples', ylabel='Counts'>"
            ]
          },
          "execution_count": 7,
          "metadata": {},
          "output_type": "execute_result"
        }
      ],
      "source": [
        "from nltk.probability import FreqDist\n",
        "\n",
        "fdist = FreqDist(filtered_words)\n",
        "\n",
        "fdist.plot(20, title=\"Word Frequency Distribution\")\n"
      ]
    },
    {
      "cell_type": "markdown",
      "metadata": {
        "id": "r2t0AI9-s4_0"
      },
      "source": [
        "Q2: Stemming and Lemmatization\n",
        "1. Take the tokenized words from Question 1 (after stopword removal).\n",
        "2. Apply stemming using NLTK's PorterStemmer and LancasterStemmer.\n",
        "3. Apply lemmatization using NLTK's WordNetLemmatizer.\n",
        "4. Compare and display results of both techniques.\n"
      ]
    },
    {
      "cell_type": "code",
      "execution_count": 8,
      "metadata": {
        "colab": {
          "base_uri": "https://localhost:8080/"
        },
        "id": "7ZEDssy8s5-c",
        "outputId": "2811bd3c-eac4-4c88-fb3f-00cda9d4e1ab"
      },
      "outputs": [
        {
          "data": {
            "text/plain": [
              "['technology',\n",
              " 'fascinating',\n",
              " 'constantly',\n",
              " 'evolves',\n",
              " 'changes',\n",
              " 'way',\n",
              " 'live',\n",
              " 'smartphones',\n",
              " 'artificial',\n",
              " 'intelligence',\n",
              " 'every',\n",
              " 'invention',\n",
              " 'makes',\n",
              " 'life',\n",
              " 'efficient',\n",
              " 'connected',\n",
              " 'love',\n",
              " 'exploring',\n",
              " 'latest',\n",
              " 'gadgets',\n",
              " 'learning',\n",
              " 'work',\n",
              " 'reading',\n",
              " 'new',\n",
              " 'discoveries',\n",
              " 'robotics',\n",
              " 'space',\n",
              " 'travel',\n",
              " 'excites',\n",
              " 'feels',\n",
              " 'like',\n",
              " 'technology',\n",
              " 'opens',\n",
              " 'doors',\n",
              " 'endless',\n",
              " 'possibilities',\n",
              " 'future',\n",
              " 'adventures']"
            ]
          },
          "execution_count": 8,
          "metadata": {},
          "output_type": "execute_result"
        }
      ],
      "source": [
        "filtered_words"
      ]
    },
    {
      "cell_type": "code",
      "execution_count": 9,
      "metadata": {
        "colab": {
          "base_uri": "https://localhost:8080/"
        },
        "id": "o7f0wDLitXs0",
        "outputId": "52697da1-b466-413a-93e0-fee4ae43cacf"
      },
      "outputs": [
        {
          "name": "stdout",
          "output_type": "stream",
          "text": [
            "['technolog', 'fascin', 'constantli', 'evolv', 'chang', 'way', 'live', 'smartphon', 'artifici', 'intellig', 'everi', 'invent', 'make', 'life', 'effici', 'connect', 'love', 'explor', 'latest', 'gadget', 'learn', 'work', 'read', 'new', 'discoveri', 'robot', 'space', 'travel', 'excit', 'feel', 'like', 'technolog', 'open', 'door', 'endless', 'possibl', 'futur', 'adventur']\n",
            "['technolog', 'fascin', 'const', 'evolv', 'chang', 'way', 'liv', 'smartphon', 'art', 'intellig', 'every', 'inv', 'mak', 'lif', 'efficy', 'connect', 'lov', 'expl', 'latest', 'gadget', 'learn', 'work', 'read', 'new', 'discovery', 'robot', 'spac', 'travel', 'excit', 'feel', 'lik', 'technolog', 'op', 'door', 'endless', 'poss', 'fut', 'adv']\n"
          ]
        }
      ],
      "source": [
        "from nltk.stem import PorterStemmer,LancasterStemmer\n",
        "\n",
        "ps=PorterStemmer()\n",
        "ls=LancasterStemmer()\n",
        "\n",
        "porter_stemmed=[ps.stem(word) for word in filtered_words]\n",
        "lancaster_stemmed=[ls.stem(word) for word in filtered_words]\n",
        "\n",
        "print(porter_stemmed)\n",
        "print(lancaster_stemmed)"
      ]
    },
    {
      "cell_type": "code",
      "execution_count": 10,
      "metadata": {
        "colab": {
          "base_uri": "https://localhost:8080/"
        },
        "id": "zdGdAB6-t5Mz",
        "outputId": "972322b5-9238-4ad8-f5b7-bf45983a36b7"
      },
      "outputs": [
        {
          "name": "stderr",
          "output_type": "stream",
          "text": [
            "[nltk_data] Downloading package wordnet to\n",
            "[nltk_data]     C:\\Users\\Jahid\\AppData\\Roaming\\nltk_data...\n",
            "[nltk_data]   Package wordnet is already up-to-date!\n"
          ]
        },
        {
          "name": "stdout",
          "output_type": "stream",
          "text": [
            "['technology', 'fascinating', 'constantly', 'evolves', 'change', 'way', 'live', 'smartphones', 'artificial', 'intelligence', 'every', 'invention', 'make', 'life', 'efficient', 'connected', 'love', 'exploring', 'latest', 'gadget', 'learning', 'work', 'reading', 'new', 'discovery', 'robotics', 'space', 'travel', 'excites', 'feel', 'like', 'technology', 'open', 'door', 'endless', 'possibility', 'future', 'adventure']\n"
          ]
        }
      ],
      "source": [
        "from nltk.stem import WordNetLemmatizer\n",
        "nltk.download('wordnet')\n",
        "\n",
        "lemmatizer=WordNetLemmatizer()\n",
        "\n",
        "lemmatized_words=[lemmatizer.lemmatize(word) for word in filtered_words]\n",
        "\n",
        "print(lemmatized_words)"
      ]
    },
    {
      "cell_type": "markdown",
      "metadata": {
        "id": "BwRxdHaCuhhN"
      },
      "source": [
        "Q3. Regular Expressions and Text Spliting\n",
        "1. Take their original text from Question 1.\n",
        "2. Use regular expressions to:\n",
        "a. Extract all words with more than 5 leƩers.\n",
        "b. Extract all numbers (if any exist in their text).\n",
        "c. Extract all capitalized words.\n",
        "3. Use text spliting techniques to:\n",
        "a. Split the text into words containing only alphabets (removing digits and special\n",
        "characters).\n",
        "b. Extract words starting with a vowel."
      ]
    },
    {
      "cell_type": "code",
      "execution_count": 11,
      "metadata": {
        "id": "seuhD10cupXd"
      },
      "outputs": [],
      "source": [
        "text = \"Technology is fascinating because it constantly evolves and changes the way we live. Smartphones, Artificial Intelligence, and every new invention make life more efficient and connected. I love exploring the latest gadgets and learning how they work. Reading about new discoveries in robotics and space travel excites me. It feels like Technology opens doors to endless possibilities and future adventures.\"\n"
      ]
    },
    {
      "cell_type": "code",
      "execution_count": 12,
      "metadata": {
        "id": "z4maICYUuvd0"
      },
      "outputs": [],
      "source": [
        "import re"
      ]
    },
    {
      "cell_type": "code",
      "execution_count": 13,
      "metadata": {
        "colab": {
          "base_uri": "https://localhost:8080/"
        },
        "id": "R_EDhQIbuzvy",
        "outputId": "e21fee6a-3a93-4e85-933c-1cf9a1982742"
      },
      "outputs": [
        {
          "name": "stdout",
          "output_type": "stream",
          "text": [
            "Words with more than 5 letters: ['Technology', 'fascinating', 'because', 'constantly', 'evolves', 'changes', 'Smartphones', 'Artificial', 'Intelligence', 'invention', 'efficient', 'connected', 'exploring', 'latest', 'gadgets', 'learning', 'Reading', 'discoveries', 'robotics', 'travel', 'excites', 'Technology', 'endless', 'possibilities', 'future', 'adventures']\n"
          ]
        }
      ],
      "source": [
        "words_more_than_5 = re.findall(r'\\b\\w{6,}\\b', text)\n",
        "print(\"Words with more than 5 letters:\", words_more_than_5)\n"
      ]
    },
    {
      "cell_type": "code",
      "execution_count": 14,
      "metadata": {
        "colab": {
          "base_uri": "https://localhost:8080/"
        },
        "id": "UT2h0mkevB-X",
        "outputId": "8cc4dcd3-8044-41c3-ffb5-6affee35b6ae"
      },
      "outputs": [
        {
          "name": "stdout",
          "output_type": "stream",
          "text": [
            "Numbers: []\n"
          ]
        }
      ],
      "source": [
        "numbers = re.findall(r'\\b\\d+\\b', text)\n",
        "print(\"Numbers:\", numbers)\n"
      ]
    },
    {
      "cell_type": "code",
      "execution_count": 15,
      "metadata": {
        "colab": {
          "base_uri": "https://localhost:8080/"
        },
        "id": "VsRyIcDnvE_g",
        "outputId": "399f6a21-5c48-44da-cd8a-a4ef14d85945"
      },
      "outputs": [
        {
          "name": "stdout",
          "output_type": "stream",
          "text": [
            "Capitalized Words: ['Technology', 'Smartphones', 'Artificial', 'Intelligence', 'I', 'Reading', 'It', 'Technology']\n"
          ]
        }
      ],
      "source": [
        "capitalized_words = re.findall(r'\\b[A-Z][a-z]*\\b', text)\n",
        "print(\"Capitalized Words:\", capitalized_words)\n"
      ]
    },
    {
      "cell_type": "code",
      "execution_count": 16,
      "metadata": {
        "colab": {
          "base_uri": "https://localhost:8080/"
        },
        "id": "b5vpOFo5vMAM",
        "outputId": "0c18c8a1-c6a9-44c8-a48a-dc53c2f1a8ac"
      },
      "outputs": [
        {
          "name": "stdout",
          "output_type": "stream",
          "text": [
            "Words with only alphabets: ['Technology', 'is', 'fascinating', 'because', 'it', 'constantly', 'evolves', 'and', 'changes', 'the', 'way', 'we', 'live', 'Smartphones', 'Artificial', 'Intelligence', 'and', 'every', 'new', 'invention', 'make', 'life', 'more', 'efficient', 'and', 'connected', 'I', 'love', 'exploring', 'the', 'latest', 'gadgets', 'and', 'learning', 'how', 'they', 'work', 'Reading', 'about', 'new', 'discoveries', 'in', 'robotics', 'and', 'space', 'travel', 'excites', 'me', 'It', 'feels', 'like', 'Technology', 'opens', 'doors', 'to', 'endless', 'possibilities', 'and', 'future', 'adventures']\n"
          ]
        }
      ],
      "source": [
        "words_only_alpha = re.findall(r'\\b[a-zA-Z]+\\b', text)\n",
        "print(\"Words with only alphabets:\", words_only_alpha)\n"
      ]
    },
    {
      "cell_type": "code",
      "execution_count": 17,
      "metadata": {
        "colab": {
          "base_uri": "https://localhost:8080/"
        },
        "id": "iyWsTvU9vStk",
        "outputId": "8db7d1a5-6e1d-4343-8171-0cd34d6911d6"
      },
      "outputs": [
        {
          "name": "stdout",
          "output_type": "stream",
          "text": [
            "Words starting with a vowel: ['is', 'it', 'evolves', 'and', 'Artificial', 'Intelligence', 'and', 'every', 'invention', 'efficient', 'and', 'I', 'exploring', 'and', 'about', 'in', 'and', 'excites', 'It', 'opens', 'endless', 'and', 'adventures']\n"
          ]
        }
      ],
      "source": [
        "words_starting_vowel = re.findall(r'\\b[AEIOUaeiou][a-zA-Z]*\\b', text)\n",
        "print(\"Words starting with a vowel:\", words_starting_vowel)\n"
      ]
    },
    {
      "cell_type": "code",
      "execution_count": 18,
      "metadata": {},
      "outputs": [
        {
          "name": "stdout",
          "output_type": "stream",
          "text": [
            "3.8.1\n"
          ]
        }
      ],
      "source": [
        "\n",
        "print(nltk.__version__)"
      ]
    },
    {
      "cell_type": "markdown",
      "metadata": {
        "id": "cBQzPjpPvlW_"
      },
      "source": [
        "Q4. Custom Tokenization & Regex-based Text Cleaning\n",
        "1. Take original text from Question 1.\n",
        "2. Write a custom tokenization function that:\n",
        "a. Removes punctuation and special symbols, but keeps contractions (e.g.,\n",
        "\"isn't\" should not be split into \"is\" and \"n't\").\n",
        "b. Handles hyphenated words as a single token (e.g., \"state-of-the-art\" remains\n",
        "a single token).\n",
        "c. Tokenizes numbers separately but keeps decimal numbers intact (e.g., \"3.14\"\n",
        "should remain as is).\n",
        "3. Use Regex Substitutions (re.sub) to:\n",
        "a. Replace email addresses with '<EMAIL>' placeholder.\n",
        "b. Replace URLs with '<URL>' placeholder.\n",
        "c. Replace phone numbers (formats: 123-456-7890 or +91 9876543210) with\n",
        "'<PHONE>' placeholder."
      ]
    },
    {
      "cell_type": "code",
      "execution_count": 19,
      "metadata": {
        "colab": {
          "base_uri": "https://localhost:8080/"
        },
        "id": "hOkabI9BvxsT",
        "outputId": "c9198a08-5c4e-4a13-cd44-c5e4ee6c2e58"
      },
      "outputs": [
        {
          "name": "stdout",
          "output_type": "stream",
          "text": [
            "Cleaned Text:\n",
            " I love state-of-the-art technology! It's amazing how quickly AI, machine-learning, and robotics are evolving.\n",
            "Visit <URL> for more details or contact me at <EMAIL> or <PHONE>.\n",
            "\n",
            "Custom Tokens:\n",
            " ['I', 'love', 'state-of-the-art', 'technology', \"It's\", 'amazing', 'how', 'quickly', 'AI', 'machine-learning', 'and', 'robotics', 'are', 'evolving.', 'Visit', 'URL', 'for', 'more', 'details', 'or', 'contact', 'me', 'at', 'EMAIL', 'or', 'PHONE.']\n"
          ]
        }
      ],
      "source": [
        "import re\n",
        "\n",
        "text = \"\"\"I love state-of-the-art technology! It's amazing how quickly AI, machine-learning, and robotics are evolving.\n",
        "Visit https://example.com for more details or contact me at john.doe123@example.com or +91 9876543210.\"\"\"\n",
        "\n",
        "def custom_tokenizer(text):\n",
        "    text = re.sub(r\"[^\\w\\s\\.\\-']\", '', text)\n",
        "\n",
        "    tokens = text.split()\n",
        "\n",
        "    return tokens\n",
        "\n",
        "def clean_text(text):\n",
        "    text = re.sub(r'\\b[\\w\\.-]+@[\\w\\.-]+\\.\\w{2,4}\\b', '<EMAIL>', text)\n",
        "\n",
        "    text = re.sub(r'https?://\\S+|www\\.\\S+', '<URL>', text)\n",
        "\n",
        "    text = re.sub(r'(\\+?\\d{1,3}[-\\s]?\\d{10}|\\d{3}-\\d{3}-\\d{4})', '<PHONE>', text)\n",
        "\n",
        "    return text\n",
        "\n",
        "cleaned_text = clean_text(text)\n",
        "print(\"Cleaned Text:\\n\", cleaned_text)\n",
        "\n",
        "tokens = custom_tokenizer(cleaned_text)\n",
        "print(\"\\nCustom Tokens:\\n\", tokens)\n"
      ]
    }
  ],
  "metadata": {
    "colab": {
      "provenance": []
    },
    "kernelspec": {
      "display_name": "Python 3",
      "name": "python3"
    },
    "language_info": {
      "codemirror_mode": {
        "name": "ipython",
        "version": 3
      },
      "file_extension": ".py",
      "mimetype": "text/x-python",
      "name": "python",
      "nbconvert_exporter": "python",
      "pygments_lexer": "ipython3",
      "version": "3.13.1"
    }
  },
  "nbformat": 4,
  "nbformat_minor": 0
}
